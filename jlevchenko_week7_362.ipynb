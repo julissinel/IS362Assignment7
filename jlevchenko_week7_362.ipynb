{
 "cells": [
  {
   "cell_type": "code",
   "execution_count": null,
   "metadata": {},
   "outputs": [],
   "source": [
    "import numpy as np\n",
    "import pandas as pd\n"
   ]
  },
  {
   "cell_type": "code",
   "execution_count": null,
   "metadata": {},
   "outputs": [],
   "source": [
    "filename = 'movies.csv'\n",
    "df = pd.read_csv(filename,index_col = 0)\n",
    "df = df.transform(lambda x: x.fillna(x.mean()))\n",
    "df['Avg'] = df.mean(axis = 1)\n",
    "df.loc['Avg'] = df.mean(axis = 0)\n",
    "df"
   ]
  },
  {
   "cell_type": "code",
   "execution_count": null,
   "metadata": {},
   "outputs": [],
   "source": [
    "filename = 'movies.csv'\n",
    "df = pd.read_csv(filename,index_col = 0)\n",
    "df = df.transform(lambda x: x.fillna(x.mean()))\n",
    "df = df.apply(lambda x: (x-x.min(axis = 0))/ (x.max(axis = 0) - x.min(axis=0)))\n",
    "df['Avg'] = df.mean(axis = 1)\n",
    "df.loc['Avg'] = df.mean(axis = 0)\n",
    "df"
   ]
  },
  {
   "cell_type": "code",
   "execution_count": null,
   "metadata": {},
   "outputs": [],
   "source": [
    "filename = 'movies.csv'\n",
    "df = pd.read_csv(filename,index_col = 0)\n",
    "df = df.transform(lambda x: x.fillna(x.mean()))\n",
    "df['Avg'] = df.mean(axis=1)\n",
    "df.loc['Avg'] = df.mean(axis=0)\n",
    "df = df.apply(lambda x: (x - x.mean()) / x.std())\n",
    "df\n"
   ]
  }
 ],
 "metadata": {
  "kernelspec": {
   "display_name": "Python 3",
   "language": "python",
   "name": "python3"
  },
  "language_info": {
   "codemirror_mode": {
    "name": "ipython",
    "version": 3
   },
   "file_extension": ".py",
   "mimetype": "text/x-python",
   "name": "python",
   "nbconvert_exporter": "python",
   "pygments_lexer": "ipython3",
   "version": "3.8.3"
  }
 },
 "nbformat": 4,
 "nbformat_minor": 4
}
